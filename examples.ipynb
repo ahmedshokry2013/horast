{
 "cells": [
  {
   "cell_type": "code",
   "execution_count": 1,
   "metadata": {},
   "outputs": [
    {
     "name": "stdout",
     "output_type": "stream",
     "text": [
      "\n",
      "a = 1  # a equals one after this\n",
      "\n",
      "\n"
     ]
    }
   ],
   "source": [
    "from horast import parse, unparse\n",
    "\n",
    "tree = parse(\"\"\"a = 1  # a equals one after this\"\"\")\n",
    "print(unparse(tree))"
   ]
  },
  {
   "cell_type": "code",
   "execution_count": 2,
   "metadata": {},
   "outputs": [
    {
     "name": "stdout",
     "output_type": "stream",
     "text": [
      "\n",
      "a = 1\n",
      "# a equals one after this\n",
      "\n",
      "\n"
     ]
    }
   ],
   "source": [
    "tree = parse(\"\"\"a = 1\n",
    "# a equals one after this\"\"\")\n",
    "print(unparse(tree))"
   ]
  },
  {
   "cell_type": "code",
   "execution_count": 3,
   "metadata": {},
   "outputs": [
    {
     "name": "stdout",
     "output_type": "stream",
     "text": [
      "Module(\n",
      "  body=[Assign(\n",
      "    targets=[Name(\n",
      "      id='a',\n",
      "      ctx=Store())],\n",
      "    value=Num(n=1),\n",
      "    type_comment=None)],\n",
      "  type_ignores=[])\n"
     ]
    }
   ],
   "source": [
    "import typed_ast.ast3\n",
    "import typed_astunparse\n",
    "\n",
    "tree = typed_ast.ast3.parse(\"\"\"a = 1  # a equals one after this\"\"\")\n",
    "print(typed_astunparse.dump(tree))"
   ]
  },
  {
   "cell_type": "code",
   "execution_count": 4,
   "metadata": {},
   "outputs": [
    {
     "name": "stdout",
     "output_type": "stream",
     "text": [
      "Module(\n",
      "  body=[\n",
      "    Assign(\n",
      "      targets=[Name(\n",
      "        id='a',\n",
      "        ctx=Store())],\n",
      "      value=Num(n=1),\n",
      "      type_comment=None),\n",
      "    Comment(value=Str(s=' a equals one after this'))],\n",
      "  type_ignores=[])\n"
     ]
    }
   ],
   "source": [
    "tree = parse(\"\"\"a = 1  # a equals one after this\"\"\")\n",
    "print(typed_astunparse.dump(tree))"
   ]
  }
 ],
 "metadata": {
  "kernelspec": {
   "display_name": "Python 3",
   "language": "python",
   "name": "python3"
  },
  "language_info": {
   "codemirror_mode": {
    "name": "ipython",
    "version": 3
   },
   "file_extension": ".py",
   "mimetype": "text/x-python",
   "name": "python",
   "nbconvert_exporter": "python",
   "pygments_lexer": "ipython3",
   "version": "3.6.0"
  }
 },
 "nbformat": 4,
 "nbformat_minor": 2
}
